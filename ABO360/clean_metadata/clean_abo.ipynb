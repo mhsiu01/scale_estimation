{
 "cells": [
  {
   "cell_type": "markdown",
   "id": "d3d757a8-b876-46c4-a33c-23cf34eb9f12",
   "metadata": {},
   "source": [
    "## Imports"
   ]
  },
  {
   "cell_type": "code",
   "execution_count": 13,
   "id": "e78a2c67-2189-40d7-90ce-95b9b3d07426",
   "metadata": {},
   "outputs": [],
   "source": [
    "import numpy as np\n",
    "import json\n",
    "import csv\n",
    "\n",
    "import os\n",
    "from tqdm import tqdm\n",
    "from pprint import pprint\n",
    "\n",
    "import matplotlib.pyplot as plt\n",
    "import pdb\n",
    "import time"
   ]
  },
  {
   "cell_type": "markdown",
   "id": "ed29a154-f011-4a67-bc10-50798b7fe8d7",
   "metadata": {},
   "source": [
    "## Read metadata from files"
   ]
  },
  {
   "cell_type": "code",
   "execution_count": 14,
   "id": "300f502f-60db-4ccc-a2f1-9502a5b9eb14",
   "metadata": {},
   "outputs": [
    {
     "name": "stderr",
     "output_type": "stream",
     "text": [
      "100% 16/16 [00:24<00:00,  1.56s/it]\n"
     ]
    },
    {
     "name": "stdout",
     "output_type": "stream",
     "text": [
      "len(prod_dicts)=147702\n",
      "len(images_csv)=398212\n",
      "len(spins_csv)=586584\n"
     ]
    }
   ],
   "source": [
    "# Get global object metadata\n",
    "prod_dicts = []\n",
    "for f in tqdm(os.listdir(\"./fast-vol/ABO360/listings/metadata/\")):\n",
    "    with open(f\"./fast-vol/ABO360/listings/metadata/{f}\") as file:\n",
    "        for line in file:\n",
    "            prod_dicts.append(json.loads(line))\n",
    "\n",
    "# Get catalog image metadata\n",
    "with open(f\"./fast-vol/ABO360/images/metadata/images.csv\") as file:\n",
    "    reader = csv.reader(file, delimiter=\",\", quotechar='\"')\n",
    "    next(reader, None)  # skip the headers\n",
    "    images_csv = [row for row in reader]\n",
    "\n",
    "# Get spins image metadata\n",
    "with open(f\"./fast-vol/ABO360/spins/metadata/spins.csv\") as file:\n",
    "    reader = csv.reader(file, delimiter=\",\", quotechar='\"')\n",
    "    next(reader, None)  # skip the headers\n",
    "    spins_csv = [row for row in reader]\n",
    "\n",
    "print(f\"{len(prod_dicts)=}\")\n",
    "print(f\"{len(images_csv)=}\")\n",
    "print(f\"{len(spins_csv)=}\")"
   ]
  },
  {
   "cell_type": "markdown",
   "id": "99e28d6f-a210-43aa-af62-45f71c2df43a",
   "metadata": {},
   "source": [
    "## Visualize image data"
   ]
  },
  {
   "cell_type": "code",
   "execution_count": 15,
   "id": "0d3b1ac7-9d4b-43ba-ab68-396fde957253",
   "metadata": {},
   "outputs": [],
   "source": [
    "from IPython.display import display\n",
    "from PIL import Image\n",
    "\n",
    "def get_image(csv_row):\n",
    "    if len(csv_row)==4:\n",
    "        img_path = csv_row[3]\n",
    "        img_path = f\"./fast-vol/ABO360/images/small/{img_path}\"\n",
    "    elif len(csv_row)==6:\n",
    "        img_path = csv_row[5]\n",
    "        img_path = f\"./fast-vol/ABO360/spins/original/{img_path}\"\n",
    "    img = Image.open(img_path)\n",
    "    return img\n",
    "\n",
    "from matplotlib.pyplot import figure, imshow, axis\n",
    "from matplotlib.image import imread\n",
    "\n",
    "def showImagesHorizontally(list_of_imgs, title=None):\n",
    "    fig = figure()\n",
    "    number_of_imgs = len(list_of_imgs)\n",
    "    if title is not None:\n",
    "        fig.suptitle(title)\n",
    "    for i in range(number_of_imgs):\n",
    "        a=fig.add_subplot(1,number_of_imgs,i+1)\n",
    "        image = list_of_imgs[i]\n",
    "        imshow(image,cmap='Greys_r')\n",
    "        axis('off')"
   ]
  },
  {
   "cell_type": "markdown",
   "id": "a75cb8e3-d80a-4bf9-bffe-954158726601",
   "metadata": {},
   "source": [
    "## Preprocess for training: filter main+other imgages for objects with sizes"
   ]
  },
  {
   "cell_type": "code",
   "execution_count": 16,
   "id": "5c07a991-681b-4933-b73f-38989efce8e1",
   "metadata": {},
   "outputs": [
    {
     "name": "stdout",
     "output_type": "stream",
     "text": [
      "{'brand': [{'language_tag': 'en_IN', 'value': 'Amazon Brand - Solimo'}],\n",
      " 'bullet_point': [{'language_tag': 'en_IN',\n",
      "                   'value': 'Snug fit for Xiaomi Redmi Note 5, with perfect '\n",
      "                            'cutouts for volume buttons, audio & charging '\n",
      "                            'ports'},\n",
      "                  {'language_tag': 'en_IN',\n",
      "                   'value': 'Stylish design and appearance, express your '\n",
      "                            'unique personality'},\n",
      "                  {'language_tag': 'en_IN',\n",
      "                   'value': 'High Resolution UV light-ion 3D Embossed Printing '\n",
      "                            'for extraordinary quality and clarity. Printed '\n",
      "                            'using high end advanced Japanese machines. Your '\n",
      "                            'get our quality promise and design excellence'},\n",
      "                  {'language_tag': 'en_IN',\n",
      "                   'value': 'Extreme precision design allows easy access to '\n",
      "                            'all buttons and ports while featuring raised '\n",
      "                            'bezel to life screen and camera off flat '\n",
      "                            'surface.'},\n",
      "                  {'language_tag': 'en_IN',\n",
      "                   'value': 'Protects phone from scratches, fingerprints and '\n",
      "                            'sweat'},\n",
      "                  {'language_tag': 'en_IN', 'value': 'Easy to put & take off'},\n",
      "                  {'language_tag': 'en_IN', 'value': 'None'}],\n",
      " 'color': [{'language_tag': 'en_IN',\n",
      "            'standardized_values': ['multi-colored'],\n",
      "            'value': 'multi-colored'}],\n",
      " 'country': 'IN',\n",
      " 'domain_name': 'amazon.in',\n",
      " 'item_id': 'B07RB6T5NR',\n",
      " 'item_keywords': [{'language_tag': 'en_IN',\n",
      "                    'value': 'Xiaomi Redmi Note 5 Mobile back case cover '\n",
      "                             'transparent slim designer printed stylish new '\n",
      "                             'girls boys'}],\n",
      " 'item_name': [{'language_tag': 'en_IN',\n",
      "                'value': 'Amazon Brand - Solimo Designer Dream Printed Hard '\n",
      "                         'Back Case Mobile Cover for Xiaomi Redmi Note 5 '\n",
      "                         '(D1244)'}],\n",
      " 'item_weight': [{'normalized_value': {'unit': 'pounds', 'value': 0.110231131},\n",
      "                  'unit': 'grams',\n",
      "                  'value': 50}],\n",
      " 'main_image_id': '71nXwOmG3UL',\n",
      " 'marketplace': 'Amazon',\n",
      " 'model_name': [{'language_tag': 'en_IN', 'value': 'Xiaomi Redmi Note 5'}],\n",
      " 'model_number': [{'value': '1101515'}],\n",
      " 'node': [{'node_id': 1389409031,\n",
      "           'node_name': '/Categories/Mobiles & Accessories/Mobile '\n",
      "                        'Accessories/Cases & Covers'}],\n",
      " 'other_image_id': ['61PDa0KyAiL',\n",
      "                    '61RO19r1oJL',\n",
      "                    '51nQ8V9l2kL',\n",
      "                    '61qIou7pXWL',\n",
      "                    '616Zb+o6ejL'],\n",
      " 'product_type': [{'value': 'CELLULAR_PHONE_CASE'}]}\n"
     ]
    }
   ],
   "source": [
    "pprint(prod_dicts[0])"
   ]
  },
  {
   "cell_type": "code",
   "execution_count": 17,
   "id": "3ed6b47f-6a68-4859-859e-53fa8d1006cd",
   "metadata": {},
   "outputs": [],
   "source": [
    "# Create dict to map image id to its metadata (ie. csv row)\n",
    "images_csv_dict = {}\n",
    "for row in images_csv:\n",
    "    id = row[0]\n",
    "    images_csv_dict[id] = row\n",
    "\n",
    "# Create dict to map spin image id to its metadata (ie. csv row)\n",
    "spins_csv_dict = {}\n",
    "for row in spins_csv:\n",
    "    id = row[2]\n",
    "    spins_csv_dict[id] = row"
   ]
  },
  {
   "cell_type": "code",
   "execution_count": 22,
   "id": "4be8954f-a3cb-4cdd-9e55-8fee82819daf",
   "metadata": {},
   "outputs": [
    {
     "name": "stderr",
     "output_type": "stream",
     "text": [
      "100% 147702/147702 [00:01<00:00, 105531.27it/s]"
     ]
    },
    {
     "name": "stdout",
     "output_type": "stream",
     "text": [
      "len(id_to_object)=185359\n",
      "num_conflicts=51468\n",
      "len(spin_to_object)=8036\n",
      "has_spin_id=8047\n"
     ]
    },
    {
     "name": "stderr",
     "output_type": "stream",
     "text": [
      "\n"
     ]
    }
   ],
   "source": [
    "\n",
    "def validate_dims(dim_units, dim_values):\n",
    "    # Note: feet, meters, micrometer almost never show up...\n",
    "    accepted_units = ['centimeters', 'feet', 'inches', 'meters', 'micrometer', 'millimeters']\n",
    "    valid = True\n",
    "    # Should be a standard unit system (metric or imperial)\n",
    "    for unit in dim_units:\n",
    "        if unit not in accepted_units:\n",
    "            valid = False\n",
    "    # Should use the same unit system for length, width, height\n",
    "    if not (dim_units[0]==dim_units[1] and dim_units[1]==dim_units[2]):\n",
    "        valid = False\n",
    "    # Should be positive values\n",
    "    if not (dim_values[0]>0 and dim_values[1]>0 and dim_values[2]>0):\n",
    "        valid = False\n",
    "    return valid\n",
    "        \n",
    "def to_meters(dim_units, dim_values):\n",
    "    dim_values = np.array(dim_values, dtype=np.float32)\n",
    "    if dim_units[0]=='centimeters':\n",
    "        dim_values*=0.01    \n",
    "    elif dim_units[0]=='feet':\n",
    "        dim_values*=0.3048\n",
    "    elif dim_units[0]=='inches':\n",
    "        dim_values*=0.0254\n",
    "    elif dim_units[0]=='meters':\n",
    "        dim_values\n",
    "    elif dim_units[0]=='micrometer':\n",
    "        dim_values*=1e-6\n",
    "    elif dim_units[0]=='millimeters':\n",
    "        dim_values*=0.001\n",
    "    else:\n",
    "        dim_values = None\n",
    "    assert dim_values is not None\n",
    "    return dim_values.tolist()\n",
    "        \n",
    "num_img_freqs = [] # Record distribution of number of images per product\n",
    "imgID_to_object = {} # Map image id to its object's metadata\n",
    "spinID_to_object = {} # Map spin id to its object's metadata\n",
    "\n",
    "num_conflicts = 0 # Counts times one image used by two different products\n",
    "has_spin_id = 0 # Counts size-labeled products that also appear in spins data\n",
    "\n",
    "# Filter for products with labeled sizes\n",
    "for idx, d in enumerate(tqdm(prod_dicts)):\n",
    "    # Extract dimensions\n",
    "    if \"item_dimensions\" in d:\n",
    "        dim_units = (\n",
    "            d[\"item_dimensions\"][\"width\"][\"unit\"],\n",
    "            d[\"item_dimensions\"][\"height\"][\"unit\"],\n",
    "            d[\"item_dimensions\"][\"length\"][\"unit\"]\n",
    "        )\n",
    "        dim_values = (\n",
    "            d[\"item_dimensions\"][\"width\"][\"value\"],\n",
    "            d[\"item_dimensions\"][\"height\"][\"value\"],\n",
    "            d[\"item_dimensions\"][\"length\"][\"value\"]\n",
    "        )\n",
    "    else:\n",
    "        continue\n",
    "        \n",
    "    # Validate, standardize to meters\n",
    "    if validate_dims(dim_units, dim_values):\n",
    "        meter_values = to_meters(dim_units, dim_values)\n",
    "        w,h,l = meter_values\n",
    "        meter_values = (round(w,5),round(h,5),round(l,5))\n",
    "    else:\n",
    "        continue\n",
    "        \n",
    "    # Write relevant metadata\n",
    "    subdict = {\n",
    "        \"item_dimensions\": meter_values,\n",
    "        \"axes_order\": (\"width\",\"height\",\"length\"),\n",
    "        \"dimensions_unit\": \"meters\"\n",
    "    }\n",
    "    for k in [\"item_id\", \"item_keywords\", \"item_name\", \"item_weight\", \"product_type\", \"main_image_id\", \"other_image_id\", \"spin_id\", \"product_type\"]:\n",
    "        if k in d:\n",
    "            subdict[k] = d[k]\n",
    "\n",
    "    # Get all image id's for this product\n",
    "    ids = []\n",
    "    num_ids = 0\n",
    "    if \"spin_id\" in d:\n",
    "        has_spin_id += 1\n",
    "        if d[\"spin_id\"] not in spinID_to_object:\n",
    "            spinID_to_object[d[\"spin_id\"]] = [subdict]\n",
    "        else:\n",
    "            spinID_to_object[d[\"spin_id\"]] = spinID_to_object[d[\"spin_id\"]] + [subdict]\n",
    "            # print(d[\"spin_id\"])\n",
    "            # print()\n",
    "    if \"main_image_id\" in d:\n",
    "        ids += [d[\"main_image_id\"]]\n",
    "        num_ids += 1\n",
    "    if \"other_image_id\" in d:\n",
    "        ids += d[\"other_image_id\"]\n",
    "        num_ids += len(d[\"other_image_id\"])\n",
    "    assert num_ids==len(ids)\n",
    "    if num_ids==0:\n",
    "        continue\n",
    "    else:\n",
    "        num_img_freqs.append(num_ids)\n",
    "\n",
    "    # Create mapping from image_id to index of its prod_dict in the filtered list\n",
    "    conflict_ids = []\n",
    "    for id in ids:\n",
    "        if id not in imgID_to_object:\n",
    "            imgID_to_object[id] = subdict\n",
    "        else:\n",
    "            num_conflicts += 1\n",
    "            conflict_ids.append(id)\n",
    "            \n",
    "    # # (optionally) Visualize product images\n",
    "    # list_of_imgs = [get_image(images_csv_dict[id]) for id in ids if id not in conflict_ids]\n",
    "    # showImagesHorizontally(list_of_imgs)\n",
    "            \n",
    "print(f\"{len(imgID_to_object)=}\")\n",
    "print(f\"{num_conflicts=}\")\n",
    "\n",
    "print(f\"{len(spinID_to_object)=}\")\n",
    "print(f\"{has_spin_id=}\")"
   ]
  },
  {
   "cell_type": "code",
   "execution_count": 23,
   "id": "b93f6552-cd7e-46ee-a044-6f325701039c",
   "metadata": {},
   "outputs": [
    {
     "data": {
      "text/plain": [
       "(array([3.2450e+03, 9.0320e+03, 1.8005e+04, 9.4560e+03, 2.6190e+03,\n",
       "        3.9100e+02, 7.9000e+01, 3.2000e+01, 1.3000e+01, 1.0000e+00]),\n",
       " array([ 1.,  3.,  5.,  7.,  9., 11., 13., 15., 17., 19., 21.]),\n",
       " <BarContainer object of 10 artists>)"
      ]
     },
     "execution_count": 23,
     "metadata": {},
     "output_type": "execute_result"
    },
    {
     "data": {
      "image/png": "[encoded data removed]",
      "text/plain": [
       "<Figure size 640x480 with 1 Axes>"
      ]
     },
     "metadata": {},
     "output_type": "display_data"
    }
   ],
   "source": [
    "plt.hist(num_img_freqs)"
   ]
  },
  {
   "cell_type": "code",
   "execution_count": 31,
   "id": "47b99bec-7022-45fe-96e9-47ce6f5bed6c",
   "metadata": {},
   "outputs": [],
   "source": [
    "plt.close(\"all\")"
   ]
  },
  {
   "cell_type": "markdown",
   "id": "deae4645-f087-40bc-bf02-fb162e7335cc",
   "metadata": {},
   "source": [
    "## Deduplication"
   ]
  },
  {
   "cell_type": "code",
   "execution_count": 40,
   "id": "ef251734-30cb-48e0-88d9-a24340db2f2f",
   "metadata": {},
   "outputs": [
    {
     "name": "stdout",
     "output_type": "stream",
     "text": [
      "id cc4d7878 has 11 duplicates.\n",
      "\n"
     ]
    },
    {
     "ename": "KeyError",
     "evalue": "0",
     "output_type": "error",
     "traceback": [
      "\u001b[0;31m---------------------------------------------------------------------------\u001b[0m",
      "\u001b[0;31mKeyError\u001b[0m                                  Traceback (most recent call last)",
      "Cell \u001b[0;32mIn[40], line 14\u001b[0m\n\u001b[1;32m      9\u001b[0m         \u001b[38;5;66;03m# for d in dictlist:\u001b[39;00m\n\u001b[1;32m     10\u001b[0m         \u001b[38;5;66;03m#     print(f\"{d['spin_id']=}\")\u001b[39;00m\n\u001b[1;32m     11\u001b[0m         \u001b[38;5;66;03m#     print(d)\u001b[39;00m\n\u001b[1;32m     12\u001b[0m         \u001b[38;5;28mprint\u001b[39m()\n\u001b[0;32m---> 14\u001b[0m     spin_to_object[k] \u001b[38;5;241m=\u001b[39m \u001b[43mdictlist\u001b[49m\u001b[43m[\u001b[49m\u001b[38;5;241;43m0\u001b[39;49m\u001b[43m]\u001b[49m\n\u001b[1;32m     15\u001b[0m \u001b[38;5;28mprint\u001b[39m(\u001b[38;5;124mf\u001b[39m\u001b[38;5;124m\"\u001b[39m\u001b[38;5;132;01m{\u001b[39;00mspin_id_dupes\u001b[38;5;132;01m}\u001b[39;00m\u001b[38;5;124m total duplicates out of \u001b[39m\u001b[38;5;132;01m{\u001b[39;00m\u001b[38;5;28mlen\u001b[39m(spin_to_object)\u001b[38;5;132;01m}\u001b[39;00m\u001b[38;5;124m spin_id\u001b[39m\u001b[38;5;124m'\u001b[39m\u001b[38;5;124ms.\u001b[39m\u001b[38;5;124m\"\u001b[39m)\n",
      "\u001b[0;31mKeyError\u001b[0m: 0"
     ]
    }
   ],
   "source": [
    "# There's some item duplication in prod_dicts, so ~10 spin_id conflicts\n",
    "# from the same product being listed twice. But it's negligible.\n",
    "\n",
    "spin_id_dupes = 0\n",
    "for k,dictlist in spinID_to_object.items():\n",
    "    if len(dictlist)>1:\n",
    "        spin_id_dupes += 1\n",
    "        print(f\"id {k} has {len(dictlist)} duplicates.\")\n",
    "        # for d in dictlist:\n",
    "        #     print(f\"{d['spin_id']=}\")\n",
    "        #     print(d)\n",
    "        print()\n",
    "        \n",
    "    spinID_to_object[k] = dictlist[0]\n",
    "print(f\"{spin_id_dupes} total duplicates out of {len(spinID_to_object)} spin_id's.\")"
   ]
  },
  {
   "cell_type": "code",
   "execution_count": null,
   "id": "ed63ecb1-6e95-434d-a9f8-8591b70c1789",
   "metadata": {},
   "outputs": [],
   "source": []
  },
  {
   "cell_type": "code",
   "execution_count": null,
   "id": "95cd2ef2-1a55-4893-b432-8fe40497ba1b",
   "metadata": {},
   "outputs": [],
   "source": [
    "with open(\"./fast-vol/ABO360/listings/metadata/listingsWithDims.json\", \"w\") as f:\n",
    "    json.dump(filtered, f)\n",
    "    \n",
    "images_csv_dict\n",
    "imgID_to_object\n",
    "\n",
    "spins_csv_dict\n",
    "spinID_to_object"
   ]
  },
  {
   "cell_type": "code",
   "execution_count": null,
   "id": "17686263-134f-411f-aba9-df87556d0437",
   "metadata": {},
   "outputs": [],
   "source": []
  }
 ],
 "metadata": {
  "kernelspec": {
   "display_name": "Python 3 (ipykernel)",
   "language": "python",
   "name": "python3"
  },
  "language_info": {
   "codemirror_mode": {
    "name": "ipython",
    "version": 3
   },
   "file_extension": ".py",
   "mimetype": "text/x-python",
   "name": "python",
   "nbconvert_exporter": "python",
   "pygments_lexer": "ipython3",
   "version": "3.11.5"
  }
 },
 "nbformat": 4,
 "nbformat_minor": 5
}
