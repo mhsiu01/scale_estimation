{
 "cells": [
  {
   "cell_type": "code",
   "execution_count": 12,
   "id": "b7bd3f3c-9e49-4708-bd59-e56594017543",
   "metadata": {},
   "outputs": [],
   "source": [
    "import os\n",
    "import shutil\n",
    "from PIL import Image"
   ]
  },
  {
   "cell_type": "code",
   "execution_count": 13,
   "id": "b55e26a0-f2dd-45f5-b5fb-6d050706b082",
   "metadata": {},
   "outputs": [],
   "source": [
    "def copy_downsized_img(src, dst, follow_symlinks=True):\n",
    "    if str(src).endswith(\".jpg\"):\n",
    "        img_num = int(str(src).removesuffix(\".jpg\")[-2:])\n",
    "        if img_num%3==0:\n",
    "            target = 256\n",
    "            # Load, downsize, save with torch or PIL\n",
    "            image = Image.open(src)\n",
    "            \n",
    "            width, height = image.size\n",
    "            w_scale = width / target\n",
    "            h_scale = height / target\n",
    "            max_scale = max(w_scale, h_scale)\n",
    "            if max_scale>1.0:\n",
    "                image.thumbnail(size=(int(width/max_scale),int(height/max_scale)))\n",
    "                \n",
    "            image.save(dst)\n",
    "    \n",
    "    else:\n",
    "        shutil.copy2(src, dst, follow_symlinks=follow_symlinks)\n",
    "\n",
    "    return dst\n",
    "\n"
   ]
  },
  {
   "cell_type": "code",
   "execution_count": null,
   "id": "8dffffd1-a72d-47cf-b787-3e872bb74322",
   "metadata": {},
   "outputs": [],
   "source": [
    "root = \"/home/jovyan/fast-vol/ABO360/spins/\"\n",
    "\n",
    "# Copy directory tree\n",
    "shutil.copytree(src=os.path.join(root, \"original\"),\n",
    "                dst=\"/home/jovyan/spins_small\",\n",
    "                # ignore=shutil.ignore_patterns('*.jpg'),\n",
    "                copy_function=copy_downsized_img)"
   ]
  },
  {
   "cell_type": "code",
   "execution_count": null,
   "id": "ebf4e831-da70-4e0e-a2db-52bae9301338",
   "metadata": {},
   "outputs": [],
   "source": []
  }
 ],
 "metadata": {
  "kernelspec": {
   "display_name": "Python 3 (ipykernel)",
   "language": "python",
   "name": "python3"
  },
  "language_info": {
   "codemirror_mode": {
    "name": "ipython",
    "version": 3
   },
   "file_extension": ".py",
   "mimetype": "text/x-python",
   "name": "python",
   "nbconvert_exporter": "python",
   "pygments_lexer": "ipython3",
   "version": "3.11.5"
  }
 },
 "nbformat": 4,
 "nbformat_minor": 5
}
