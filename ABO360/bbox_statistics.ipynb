{
 "cells": [
  {
   "cell_type": "code",
   "execution_count": 1,
   "id": "8f6f0a5e-85c9-4fd9-a39f-05e925f42476",
   "metadata": {},
   "outputs": [],
   "source": [
    "%load_ext autoreload\n",
    "%autoreload 2\n",
    "    \n",
    "import os\n",
    "# import argparse\n",
    "import sys\n",
    "import pdb\n",
    "import numpy as np\n",
    "from pprint import pprint\n",
    "import matplotlib.pyplot as plt\n",
    "\n",
    "# Import training libraries: torch, tqdm, tensorboard\n",
    "import torch\n",
    "import torch.nn as nn\n",
    "import torch.nn.functional as F\n",
    "from torch.distributions.multivariate_normal import MultivariateNormal\n",
    "import torchvision\n",
    "torchvision.disable_beta_transforms_warning()\n",
    "# Distributed training with torch's DDP and torchrun\n",
    "# import torch.multiprocessing as mp\n",
    "from torch.distributed import destroy_process_group\n",
    "\n",
    "# Tracking metrics + fix RNG seed for reproducibility\n",
    "from tqdm import tqdm\n",
    "from time import time\n",
    "import random\n",
    "SEED = 123\n",
    "random.seed(SEED)\n",
    "torch.manual_seed(SEED)\n",
    "np.random.seed(SEED)\n",
    "\n",
    "# Helper functions for training\n",
    "from datasets import ABODataset\n",
    "# from data_utils import init_dataset, split_dataset, init_loader"
   ]
  },
  {
   "cell_type": "code",
   "execution_count": 2,
   "id": "74aae8eb-8622-4e6a-9ba1-4f1d4e043d36",
   "metadata": {},
   "outputs": [
    {
     "name": "stdout",
     "output_type": "stream",
     "text": [
      "The autoreload extension is already loaded. To reload it, use:\n",
      "  %reload_ext autoreload\n"
     ]
    }
   ],
   "source": [
    "%load_ext autoreload\n",
    "%autoreload 2\n",
    "    \n",
    "dataset_sorted = ABODataset(\n",
    "    final_size=128,\n",
    "    metadata_dir=\"./fast-vol/ABO360/clean_metadata\",\n",
    "    mode=\"spins\"\n",
    ")\n",
    "dataset_unsorted = ABODataset(\n",
    "    final_size=128,\n",
    "    metadata_dir=\"./fast-vol/ABO360/clean_metadata\",\n",
    "    mode=\"spins\", sort_bbox=False\n",
    ")"
   ]
  },
  {
   "cell_type": "code",
   "execution_count": 3,
   "id": "618ff4d6-c722-4294-bf98-97bc624700cc",
   "metadata": {},
   "outputs": [
    {
     "name": "stdout",
     "output_type": "stream",
     "text": [
      "The autoreload extension is already loaded. To reload it, use:\n",
      "  %reload_ext autoreload\n"
     ]
    }
   ],
   "source": [
    "%load_ext autoreload\n",
    "%autoreload 2\n",
    "    \n",
    "# Split\n",
    "N = len(dataset_sorted)\n",
    "split_props = [0.7,0.1]\n",
    "lengths = [round(split_props[0]*N),\n",
    "           round(split_props[1]*N),\n",
    "           N-round(split_props[0]*N)-round(split_props[1]*N)]\n",
    "# Random split\n",
    "train_set_sorted, _, _ = torch.utils.data.random_split(\n",
    "    dataset_sorted, lengths, generator=torch.Generator().manual_seed(SEED)\n",
    ")\n",
    "train_set_unsorted, _, _ = torch.utils.data.random_split(\n",
    "    dataset_unsorted, lengths, generator=torch.Generator().manual_seed(SEED)\n",
    ")"
   ]
  },
  {
   "cell_type": "code",
   "execution_count": 4,
   "id": "14900d0a-154b-49c9-a017-b51979617f65",
   "metadata": {},
   "outputs": [],
   "source": [
    "from torch.utils.data import Dataset, DataLoader\n",
    "train_loader_sorted = DataLoader(\n",
    "    dataset=train_set_sorted, batch_size=256,\n",
    "    drop_last=False, shuffle=True,\n",
    "    num_workers=16, pin_memory=True\n",
    ")\n",
    "train_loader_unsorted = DataLoader(\n",
    "    dataset=train_set_unsorted, batch_size=256,\n",
    "    drop_last=False, shuffle=True,\n",
    "    num_workers=16, pin_memory=True\n",
    ")"
   ]
  },
  {
   "cell_type": "code",
   "execution_count": 5,
   "id": "1a5a16f6-3aa2-4476-a1fd-41e4c4433e27",
   "metadata": {},
   "outputs": [
    {
     "data": {
      "text/plain": [
       "381023"
      ]
     },
     "execution_count": 5,
     "metadata": {},
     "output_type": "execute_result"
    }
   ],
   "source": [
    "len(train_loader_sorted.sampler)"
   ]
  },
  {
   "cell_type": "code",
   "execution_count": 7,
   "id": "c865b23f-deaa-43d3-aad6-5f33a908e4a1",
   "metadata": {},
   "outputs": [
    {
     "name": "stdout",
     "output_type": "stream",
     "text": [
      "The autoreload extension is already loaded. To reload it, use:\n",
      "  %reload_ext autoreload\n"
     ]
    },
    {
     "name": "stderr",
     "output_type": "stream",
     "text": [
      "  7% 101/1489 [02:07<29:05,  1.26s/it]"
     ]
    },
    {
     "name": "stdout",
     "output_type": "stream",
     "text": [
      "bboxes_unsorted.shape=torch.Size([26112, 3])\n"
     ]
    },
    {
     "name": "stderr",
     "output_type": "stream",
     "text": [
      "\n"
     ]
    }
   ],
   "source": [
    "%load_ext autoreload\n",
    "%autoreload 2\n",
    "    \n",
    "bboxes_unsorted = []\n",
    "with torch.no_grad():\n",
    "    for i,(imgs_,bboxs_) in enumerate(tqdm(train_loader_unsorted)):\n",
    "        # pdb.set_trace()\n",
    "        bboxes_unsorted.append(bboxs_)\n",
    "        if i>100:\n",
    "            break\n",
    "    \n",
    "    bboxes_unsorted = torch.cat(bboxes_unsorted, dim=0)\n",
    "print(f\"{bboxes_unsorted.shape=}\")"
   ]
  },
  {
   "cell_type": "code",
   "execution_count": 8,
   "id": "3773c47a-0246-477d-afeb-1da12644b282",
   "metadata": {},
   "outputs": [
    {
     "name": "stdout",
     "output_type": "stream",
     "text": [
      "The autoreload extension is already loaded. To reload it, use:\n",
      "  %reload_ext autoreload\n"
     ]
    },
    {
     "name": "stderr",
     "output_type": "stream",
     "text": [
      "  7% 101/1489 [01:42<23:35,  1.02s/it]"
     ]
    },
    {
     "name": "stdout",
     "output_type": "stream",
     "text": [
      "bboxes_sorted.shape=torch.Size([26112, 3])\n"
     ]
    },
    {
     "name": "stderr",
     "output_type": "stream",
     "text": [
      "\n"
     ]
    }
   ],
   "source": [
    "%load_ext autoreload\n",
    "%autoreload 2\n",
    "    \n",
    "bboxes_sorted = []\n",
    "with torch.no_grad():\n",
    "    for i,(imgs_,bboxs_) in enumerate(tqdm(train_loader_sorted)):\n",
    "        bboxes_sorted.append(bboxs_)\n",
    "        if i>100:\n",
    "            break\n",
    "    \n",
    "    bboxes_sorted = torch.cat(bboxes_sorted, dim=0)\n",
    "print(f\"{bboxes_sorted.shape=}\")"
   ]
  },
  {
   "cell_type": "code",
   "execution_count": 9,
   "id": "a567226c-a1f8-4552-b469-e2e64848825a",
   "metadata": {},
   "outputs": [],
   "source": [
    "# ws_sorted,hs_sorted,ls_sorted = bboxes_sorted[:,0],bboxes_sorted[:,1],bboxes_sorted[:,2]\n",
    "# ws_unsorted,hs_unsorted,ls_unsorted = bboxes_unsorted[:,0],bboxes_unsorted[:,1],bboxes_unsorted[:,2]"
   ]
  },
  {
   "cell_type": "code",
   "execution_count": 15,
   "id": "a98ac1c5-03bc-4a96-8430-aa5e3cca2946",
   "metadata": {},
   "outputs": [
    {
     "data": {
      "text/plain": [
       "torch.Size([26112, 3])"
      ]
     },
     "execution_count": 15,
     "metadata": {},
     "output_type": "execute_result"
    }
   ],
   "source": [
    "bboxes_unsorted.shape"
   ]
  },
  {
   "cell_type": "code",
   "execution_count": 18,
   "id": "55424a1e-7c0b-4d0a-abee-2467ef65bd26",
   "metadata": {},
   "outputs": [
    {
     "data": {
      "image/png": "[encoded data removed]",
      "text/plain": [
       "<Figure size 640x480 with 1 Axes>"
      ]
     },
     "metadata": {},
     "output_type": "display_data"
    },
    {
     "data": {
      "image/png": "[encoded data removed]",
      "text/plain": [
       "<Figure size 640x480 with 1 Axes>"
      ]
     },
     "metadata": {},
     "output_type": "display_data"
    },
    {
     "data": {
      "image/png": "[encoded data removed]",
      "text/plain": [
       "<Figure size 640x480 with 1 Axes>"
      ]
     },
     "metadata": {},
     "output_type": "display_data"
    }
   ],
   "source": [
    "for data in zip(torch.transpose(bboxes_unsorted,0,1),torch.transpose(bboxes_sorted,0,1)):\n",
    "    plt.xlim(0,5)\n",
    "    plt.hist(data, bins=500)\n",
    "    plt.show()"
   ]
  },
  {
   "cell_type": "code",
   "execution_count": 19,
   "id": "a4f7da40-15c8-412b-9fbb-770cb131db1f",
   "metadata": {},
   "outputs": [
    {
     "data": {
      "image/png": "[encoded data removed]",
      "text/plain": [
       "<Figure size 640x480 with 1 Axes>"
      ]
     },
     "metadata": {},
     "output_type": "display_data"
    },
    {
     "data": {
      "image/png": "[encoded data removed]",
      "text/plain": [
       "<Figure size 640x480 with 1 Axes>"
      ]
     },
     "metadata": {},
     "output_type": "display_data"
    },
    {
     "data": {
      "image/png": "[encoded data removed]",
      "text/plain": [
       "<Figure size 640x480 with 1 Axes>"
      ]
     },
     "metadata": {},
     "output_type": "display_data"
    }
   ],
   "source": [
    "for data in torch.transpose(bboxes_sorted,0,1):\n",
    "    plt.xlim(0,5)\n",
    "    plt.hist(data, bins=20)\n",
    "    plt.show()"
   ]
  },
  {
   "cell_type": "code",
   "execution_count": null,
   "id": "1306d6cd-0def-4ca1-a879-a4217fad2b30",
   "metadata": {},
   "outputs": [],
   "source": [
    "transformed1 = np.cbrt(np.log(bboxes.flatten()))\n",
    "transformed2 = np.log(bboxes.flatten())\n",
    "transformed3 = np.arctan(np.log(bboxes.flatten()))\n",
    "transformed4 = np.arctan(bboxes.flatten())\n",
    "# transformed5 = np.arctan(bboxes.flatten()) * 4.0\n",
    "n,bins,patches = plt.hist(transformed1, bins=90)\n",
    "n,bins,patches = plt.hist(transformed2, bins=90)\n",
    "n,bins,patches = plt.hist(transformed3, bins=60)\n",
    "n,bins,patches = plt.hist(transformed4, bins=30)\n",
    "# n,bins,patches = plt.hist(transformed5, bins=60)"
   ]
  },
  {
   "cell_type": "code",
   "execution_count": null,
   "id": "cb426136-0ea1-4ad1-8962-194f23fafd37",
   "metadata": {},
   "outputs": [],
   "source": [
    "# lin_bins = np.exp(np.power(bins,3.0))\n",
    "# lin_bins = np.exp(bins)\n",
    "# lin_bins = np.exp(np.tan(bins))\n",
    "lin_bins = np.tan(bins)\n",
    "# lin_bins = np.tan(bins/4.0)"
   ]
  },
  {
   "cell_type": "code",
   "execution_count": null,
   "id": "3b73b855-3733-4621-9b13-5e590e1033a7",
   "metadata": {},
   "outputs": [],
   "source": [
    "lin_bins"
   ]
  },
  {
   "cell_type": "code",
   "execution_count": null,
   "id": "c61fac3d-1cab-4c98-8978-5c1afc5b5335",
   "metadata": {},
   "outputs": [],
   "source": [
    "lin_bin_widths = lin_bins[1:] - lin_bins[:-1]"
   ]
  },
  {
   "cell_type": "code",
   "execution_count": null,
   "id": "f82ed251-2ee2-41ba-aca9-5744612a153c",
   "metadata": {},
   "outputs": [],
   "source": [
    "lin_bin_widths*100"
   ]
  },
  {
   "cell_type": "code",
   "execution_count": null,
   "id": "1691c733-e69c-4bc4-a9d2-f06659268ba2",
   "metadata": {},
   "outputs": [],
   "source": [
    "(lin_bin_widths*100).astype(np.int32)"
   ]
  },
  {
   "cell_type": "code",
   "execution_count": null,
   "id": "8cf473a9-5503-4203-9c10-59a27e40392c",
   "metadata": {},
   "outputs": [],
   "source": [
    "plt.hist(lin_bin_widths*100, bins=len(n))"
   ]
  },
  {
   "cell_type": "code",
   "execution_count": null,
   "id": "c1eea142-a7c5-49fb-bde3-a57b444c36d4",
   "metadata": {},
   "outputs": [],
   "source": [
    "transformed_buckets = np.linspace(start=0.0,stop=np.arctan(5.0),num=30+1)"
   ]
  },
  {
   "cell_type": "code",
   "execution_count": null,
   "id": "593cf487-fc1c-463f-b7e0-963ed3f5f31c",
   "metadata": {},
   "outputs": [],
   "source": [
    "lin_buckets = np.tan(transformed_buckets)"
   ]
  },
  {
   "cell_type": "code",
   "execution_count": null,
   "id": "914bde65-1ed0-4e66-8554-2c823c97bf24",
   "metadata": {},
   "outputs": [],
   "source": [
    "lin_buckets"
   ]
  },
  {
   "cell_type": "code",
   "execution_count": null,
   "id": "5497b8a7-2978-47ae-89ea-60ce643082cd",
   "metadata": {},
   "outputs": [],
   "source": []
  }
 ],
 "metadata": {
  "kernelspec": {
   "display_name": "Python 3 (ipykernel)",
   "language": "python",
   "name": "python3"
  },
  "language_info": {
   "codemirror_mode": {
    "name": "ipython",
    "version": 3
   },
   "file_extension": ".py",
   "mimetype": "text/x-python",
   "name": "python",
   "nbconvert_exporter": "python",
   "pygments_lexer": "ipython3",
   "version": "3.11.5"
  }
 },
 "nbformat": 4,
 "nbformat_minor": 5
}
